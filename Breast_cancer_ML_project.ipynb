{
  "nbformat": 4,
  "nbformat_minor": 0,
  "metadata": {
    "colab": {
      "provenance": []
    },
    "kernelspec": {
      "name": "python3",
      "display_name": "Python 3"
    },
    "language_info": {
      "name": "python"
    }
  },
  "cells": [
    {
      "cell_type": "markdown",
      "source": [
        "##Importing libraries"
      ],
      "metadata": {
        "id": "r_DiRegPKkok"
      }
    },
    {
      "cell_type": "code",
      "source": [
        "import pandas as pd\n",
        "import numpy as np\n",
        "import matplotlib.pyplot as plt\n",
        "%matplotlib inline"
      ],
      "metadata": {
        "id": "sBb4goip70MQ"
      },
      "execution_count": 2,
      "outputs": []
    },
    {
      "cell_type": "markdown",
      "source": [
        "##Importing dataset"
      ],
      "metadata": {
        "id": "ohHezYcwKnhO"
      }
    },
    {
      "cell_type": "code",
      "source": [
        "dataset = pd.read_csv(\"Data.csv\")\n",
        "X = dataset.iloc[:,1:-1].values\n",
        "y = dataset.iloc[:,-1].values"
      ],
      "metadata": {
        "id": "_51VP1cR_AxK"
      },
      "execution_count": 3,
      "outputs": []
    },
    {
      "cell_type": "code",
      "source": [
        "print(dataset.shape)"
      ],
      "metadata": {
        "colab": {
          "base_uri": "https://localhost:8080/"
        },
        "id": "myQbUIMw9dHz",
        "outputId": "167cec6c-20db-424f-f481-5bf80a600ae6"
      },
      "execution_count": 5,
      "outputs": [
        {
          "output_type": "stream",
          "name": "stdout",
          "text": [
            "(683, 11)\n"
          ]
        }
      ]
    },
    {
      "cell_type": "code",
      "source": [
        "print(dataset.describe())"
      ],
      "metadata": {
        "colab": {
          "base_uri": "https://localhost:8080/"
        },
        "id": "o04jzQRT-ymr",
        "outputId": "83bf6e4a-0c47-4077-c74f-dda470488e89"
      },
      "execution_count": 6,
      "outputs": [
        {
          "output_type": "stream",
          "name": "stdout",
          "text": [
            "       Sample code number  Clump Thickness  Uniformity of Cell Size  \\\n",
            "count        6.830000e+02       683.000000               683.000000   \n",
            "mean         1.076720e+06         4.442167                 3.150805   \n",
            "std          6.206440e+05         2.820761                 3.065145   \n",
            "min          6.337500e+04         1.000000                 1.000000   \n",
            "25%          8.776170e+05         2.000000                 1.000000   \n",
            "50%          1.171795e+06         4.000000                 1.000000   \n",
            "75%          1.238705e+06         6.000000                 5.000000   \n",
            "max          1.345435e+07        10.000000                10.000000   \n",
            "\n",
            "       Uniformity of Cell Shape  Marginal Adhesion  \\\n",
            "count                683.000000         683.000000   \n",
            "mean                   3.215227           2.830161   \n",
            "std                    2.988581           2.864562   \n",
            "min                    1.000000           1.000000   \n",
            "25%                    1.000000           1.000000   \n",
            "50%                    1.000000           1.000000   \n",
            "75%                    5.000000           4.000000   \n",
            "max                   10.000000          10.000000   \n",
            "\n",
            "       Single Epithelial Cell Size  Bare Nuclei  Bland Chromatin  \\\n",
            "count                   683.000000   683.000000       683.000000   \n",
            "mean                      3.234261     3.544656         3.445095   \n",
            "std                       2.223085     3.643857         2.449697   \n",
            "min                       1.000000     1.000000         1.000000   \n",
            "25%                       2.000000     1.000000         2.000000   \n",
            "50%                       2.000000     1.000000         3.000000   \n",
            "75%                       4.000000     6.000000         5.000000   \n",
            "max                      10.000000    10.000000        10.000000   \n",
            "\n",
            "       Normal Nucleoli     Mitoses       Class  \n",
            "count       683.000000  683.000000  683.000000  \n",
            "mean          2.869693    1.603221    2.699854  \n",
            "std           3.052666    1.732674    0.954592  \n",
            "min           1.000000    1.000000    2.000000  \n",
            "25%           1.000000    1.000000    2.000000  \n",
            "50%           1.000000    1.000000    2.000000  \n",
            "75%           4.000000    1.000000    4.000000  \n",
            "max          10.000000   10.000000    4.000000  \n"
          ]
        }
      ]
    },
    {
      "cell_type": "markdown",
      "source": [
        "##Split the data for Training and Testing"
      ],
      "metadata": {
        "id": "a6xGp5eiKqOI"
      }
    },
    {
      "cell_type": "code",
      "source": [
        "from sklearn.model_selection import train_test_split\n",
        "X_train, X_test, y_train, y_test = train_test_split(X,y,test_size=0.25,random_state=0)"
      ],
      "metadata": {
        "id": "xR3xpQ0MCXGE"
      },
      "execution_count": 62,
      "outputs": []
    },
    {
      "cell_type": "markdown",
      "source": [
        "##Feature Scaling"
      ],
      "metadata": {
        "id": "6fjVvYkLxMGG"
      }
    },
    {
      "cell_type": "code",
      "source": [
        "from sklearn.preprocessing import StandardScaler\n",
        "sc = StandardScaler()\n",
        "X_train = sc.fit_transform(X_train)\n",
        "X_test = sc.transform(X_test)"
      ],
      "metadata": {
        "id": "D4LDWMuNxLEc"
      },
      "execution_count": 63,
      "outputs": []
    },
    {
      "cell_type": "markdown",
      "source": [
        "##Logistic Regression Classification"
      ],
      "metadata": {
        "id": "UnjU2kzsx8Li"
      }
    },
    {
      "cell_type": "markdown",
      "source": [
        "Training LogisticRegression Model"
      ],
      "metadata": {
        "id": "3UMkJ4EX0imL"
      }
    },
    {
      "cell_type": "code",
      "source": [
        "from sklearn.linear_model import LogisticRegression\n",
        "classifier1 = LogisticRegression(random_state=0)\n",
        "classifier1.fit(X_train,y_train)"
      ],
      "metadata": {
        "colab": {
          "base_uri": "https://localhost:8080/"
        },
        "id": "6eXOJXTL0hYd",
        "outputId": "eba3e039-41c2-44be-92e1-32bb73859294"
      },
      "execution_count": 64,
      "outputs": [
        {
          "output_type": "execute_result",
          "data": {
            "text/plain": [
              "LogisticRegression(random_state=0)"
            ]
          },
          "metadata": {},
          "execution_count": 64
        }
      ]
    },
    {
      "cell_type": "markdown",
      "source": [
        "Creating Confusion Matrix and Accuracy Score"
      ],
      "metadata": {
        "id": "Cmdw9Uu-K5D4"
      }
    },
    {
      "cell_type": "code",
      "source": [
        "from sklearn.metrics import confusion_matrix, accuracy_score\n",
        "y_pred = classifier1.predict(X_test)\n",
        "cm = confusion_matrix(y_test, y_pred)\n",
        "print(cm)\n",
        "accuracy_score(y_test, y_pred)"
      ],
      "metadata": {
        "colab": {
          "base_uri": "https://localhost:8080/"
        },
        "id": "gW0P-CZ-DPo5",
        "outputId": "cc5f7cc3-9824-4191-cce5-8d85fb7adbe4"
      },
      "execution_count": 65,
      "outputs": [
        {
          "output_type": "stream",
          "name": "stdout",
          "text": [
            "[[103   4]\n",
            " [  5  59]]\n"
          ]
        },
        {
          "output_type": "execute_result",
          "data": {
            "text/plain": [
              "0.9473684210526315"
            ]
          },
          "metadata": {},
          "execution_count": 65
        }
      ]
    },
    {
      "cell_type": "markdown",
      "source": [
        "**K-fold cross verification** ma total 10 cross var accuracy count kare and aeni average le so best accuracy male model mate.\n",
        "cv = 10 je default che jenathi 10 var avg le."
      ],
      "metadata": {
        "id": "FJh9wsExIz72"
      }
    },
    {
      "cell_type": "code",
      "source": [
        "from sklearn.model_selection import cross_val_score\n",
        "accuracies = cross_val_score(estimator = classifier, X = X_train, y = y_train, cv = 10)\n",
        "print(\"Accuracy: {:.2f} %\".format(accuracies.mean()*100))\n",
        "print(\"Standard Deviation: {:.2f} %\".format(accuracies.std()*100))"
      ],
      "metadata": {
        "colab": {
          "base_uri": "https://localhost:8080/"
        },
        "id": "IU13aCy3DkcG",
        "outputId": "c3502669-783c-4978-9e99-f292781db9f5"
      },
      "execution_count": 66,
      "outputs": [
        {
          "output_type": "stream",
          "name": "stdout",
          "text": [
            "Accuracy: 97.27 %\n",
            "Standard Deviation: 2.17 %\n"
          ]
        }
      ]
    },
    {
      "cell_type": "markdown",
      "source": [
        "##k_nearest_neighbors"
      ],
      "metadata": {
        "id": "9teuMfDXyFZ1"
      }
    },
    {
      "cell_type": "markdown",
      "source": [
        "Training k_nearest_neighbors Model"
      ],
      "metadata": {
        "id": "LpPM8Ovv0zug"
      }
    },
    {
      "cell_type": "code",
      "source": [
        "from sklearn.neighbors import KNeighborsClassifier\n",
        "classifier2 = KNeighborsClassifier(n_neighbors = 5, metric = 'minkowski', p = 2)\n",
        "classifier2.fit(X_train, y_train)"
      ],
      "metadata": {
        "colab": {
          "base_uri": "https://localhost:8080/"
        },
        "id": "Ef7JbmS4yhe1",
        "outputId": "d6859f13-d3bb-404b-d127-1f04e4838428"
      },
      "execution_count": 67,
      "outputs": [
        {
          "output_type": "execute_result",
          "data": {
            "text/plain": [
              "KNeighborsClassifier()"
            ]
          },
          "metadata": {},
          "execution_count": 67
        }
      ]
    },
    {
      "cell_type": "markdown",
      "source": [
        "Creating Confusion Matrix and Accuracy Score"
      ],
      "metadata": {
        "id": "n3oy5BeF00Rb"
      }
    },
    {
      "cell_type": "code",
      "source": [
        "from sklearn.metrics import confusion_matrix, accuracy_score\n",
        "y_pred = classifier2.predict(X_test)\n",
        "cm = confusion_matrix(y_test, y_pred)\n",
        "print(cm)\n",
        "accuracy_score(y_test, y_pred)"
      ],
      "metadata": {
        "colab": {
          "base_uri": "https://localhost:8080/"
        },
        "id": "SmxF9MYEyrIi",
        "outputId": "5080534b-3f0c-4b03-9f53-3b8461371e52"
      },
      "execution_count": 68,
      "outputs": [
        {
          "output_type": "stream",
          "name": "stdout",
          "text": [
            "[[103   4]\n",
            " [  5  59]]\n"
          ]
        },
        {
          "output_type": "execute_result",
          "data": {
            "text/plain": [
              "0.9473684210526315"
            ]
          },
          "metadata": {},
          "execution_count": 68
        }
      ]
    },
    {
      "cell_type": "markdown",
      "source": [
        "##support_vector_machine"
      ],
      "metadata": {
        "id": "26sdNt89yQeV"
      }
    },
    {
      "cell_type": "markdown",
      "source": [
        "Training Support Vector Machine Model"
      ],
      "metadata": {
        "id": "IfiHA7H809nM"
      }
    },
    {
      "cell_type": "code",
      "source": [
        "from sklearn.svm import SVC\n",
        "classifier3 = SVC(kernel = 'linear', random_state = 0)\n",
        "classifier3.fit(X_train, y_train)"
      ],
      "metadata": {
        "colab": {
          "base_uri": "https://localhost:8080/"
        },
        "id": "11RwOSOWy3BM",
        "outputId": "33d30f4b-d3d9-41d0-bbe1-6fc097bfded2"
      },
      "execution_count": 69,
      "outputs": [
        {
          "output_type": "execute_result",
          "data": {
            "text/plain": [
              "SVC(kernel='linear', random_state=0)"
            ]
          },
          "metadata": {},
          "execution_count": 69
        }
      ]
    },
    {
      "cell_type": "markdown",
      "source": [
        "Creating Confusion Matrix and Accuracy Score"
      ],
      "metadata": {
        "id": "riDkqP-l0-uu"
      }
    },
    {
      "cell_type": "code",
      "source": [
        "from sklearn.metrics import confusion_matrix, accuracy_score\n",
        "y_pred = classifier3.predict(X_test)\n",
        "cm = confusion_matrix(y_test, y_pred)\n",
        "print(cm)\n",
        "accuracy_score(y_test, y_pred)"
      ],
      "metadata": {
        "colab": {
          "base_uri": "https://localhost:8080/"
        },
        "id": "so6-A_zryiNc",
        "outputId": "00a8b0fc-f222-462c-de87-60640f5a42e2"
      },
      "execution_count": 70,
      "outputs": [
        {
          "output_type": "stream",
          "name": "stdout",
          "text": [
            "[[102   5]\n",
            " [  5  59]]\n"
          ]
        },
        {
          "output_type": "execute_result",
          "data": {
            "text/plain": [
              "0.9415204678362573"
            ]
          },
          "metadata": {},
          "execution_count": 70
        }
      ]
    },
    {
      "cell_type": "markdown",
      "source": [
        "##kernel_svm"
      ],
      "metadata": {
        "id": "ZlGkyPMmyQbb"
      }
    },
    {
      "cell_type": "markdown",
      "source": [
        "Training Kernel_svm Model"
      ],
      "metadata": {
        "id": "1ioyTzNm1zEC"
      }
    },
    {
      "cell_type": "code",
      "source": [
        "from sklearn.svm import SVC\n",
        "classifier4 = SVC(kernel = 'rbf', random_state = 0)\n",
        "classifier4.fit(X_train, y_train)"
      ],
      "metadata": {
        "colab": {
          "base_uri": "https://localhost:8080/"
        },
        "id": "Mw2Xv3H5y5wj",
        "outputId": "361822f8-6243-4ebb-f8ec-0ecca2d4c84e"
      },
      "execution_count": 71,
      "outputs": [
        {
          "output_type": "execute_result",
          "data": {
            "text/plain": [
              "SVC(random_state=0)"
            ]
          },
          "metadata": {},
          "execution_count": 71
        }
      ]
    },
    {
      "cell_type": "markdown",
      "source": [
        "Creating Confusion Matrix and Accuracy Score"
      ],
      "metadata": {
        "id": "KVADZdo-1AGp"
      }
    },
    {
      "cell_type": "code",
      "source": [
        "from sklearn.metrics import confusion_matrix, accuracy_score\n",
        "y_pred = classifier4.predict(X_test)\n",
        "cm = confusion_matrix(y_test, y_pred)\n",
        "print(cm)\n",
        "accuracy_score(y_test, y_pred)"
      ],
      "metadata": {
        "colab": {
          "base_uri": "https://localhost:8080/"
        },
        "id": "6BjwZE5vyi2t",
        "outputId": "2f924881-7dcb-4adf-c039-0e56e1ccbdfc"
      },
      "execution_count": 72,
      "outputs": [
        {
          "output_type": "stream",
          "name": "stdout",
          "text": [
            "[[101   6]\n",
            " [  3  61]]\n"
          ]
        },
        {
          "output_type": "execute_result",
          "data": {
            "text/plain": [
              "0.9473684210526315"
            ]
          },
          "metadata": {},
          "execution_count": 72
        }
      ]
    },
    {
      "cell_type": "markdown",
      "source": [
        "##naive_bayes"
      ],
      "metadata": {
        "id": "8KaJI9ldyQUZ"
      }
    },
    {
      "cell_type": "markdown",
      "source": [
        "Training Naive Bayes Model"
      ],
      "metadata": {
        "id": "OGo-PWr_1hPR"
      }
    },
    {
      "cell_type": "code",
      "source": [
        "from sklearn.naive_bayes import GaussianNB\n",
        "classifier5 = GaussianNB()\n",
        "classifier5.fit(X_train, y_train)"
      ],
      "metadata": {
        "colab": {
          "base_uri": "https://localhost:8080/"
        },
        "id": "fUT28Mjjy68e",
        "outputId": "87d6d4fa-52aa-4f3c-f7da-8ca783ee4ac9"
      },
      "execution_count": 73,
      "outputs": [
        {
          "output_type": "execute_result",
          "data": {
            "text/plain": [
              "GaussianNB()"
            ]
          },
          "metadata": {},
          "execution_count": 73
        }
      ]
    },
    {
      "cell_type": "markdown",
      "source": [
        "Creating Confusion Matrix and Accuracy Score"
      ],
      "metadata": {
        "id": "cldf59b01BHj"
      }
    },
    {
      "cell_type": "code",
      "source": [
        "from sklearn.metrics import confusion_matrix, accuracy_score\n",
        "y_pred = classifier5.predict(X_test)\n",
        "cm = confusion_matrix(y_test, y_pred)\n",
        "print(cm)\n",
        "accuracy_score(y_test, y_pred)"
      ],
      "metadata": {
        "colab": {
          "base_uri": "https://localhost:8080/"
        },
        "id": "cRNHlj1pykOF",
        "outputId": "38f37be6-3b0c-4b2b-9a59-370d81e0111f"
      },
      "execution_count": 74,
      "outputs": [
        {
          "output_type": "stream",
          "name": "stdout",
          "text": [
            "[[99  8]\n",
            " [ 2 62]]\n"
          ]
        },
        {
          "output_type": "execute_result",
          "data": {
            "text/plain": [
              "0.9415204678362573"
            ]
          },
          "metadata": {},
          "execution_count": 74
        }
      ]
    },
    {
      "cell_type": "markdown",
      "source": [
        "##random_forest_classification"
      ],
      "metadata": {
        "id": "XRyX6IfSyZYy"
      }
    },
    {
      "cell_type": "markdown",
      "source": [
        "Training Random Forest Classification Model"
      ],
      "metadata": {
        "id": "K7WlR1ae1Pp1"
      }
    },
    {
      "cell_type": "code",
      "source": [
        "from sklearn.ensemble import RandomForestClassifier\n",
        "classifier6 = RandomForestClassifier(n_estimators = 10, criterion = 'entropy', random_state = 0)\n",
        "classifier6.fit(X_train, y_train)"
      ],
      "metadata": {
        "colab": {
          "base_uri": "https://localhost:8080/"
        },
        "id": "eoIHHZbmy7tW",
        "outputId": "fdc0e635-1392-422c-ab07-5c4d6e9f18c2"
      },
      "execution_count": 75,
      "outputs": [
        {
          "output_type": "execute_result",
          "data": {
            "text/plain": [
              "RandomForestClassifier(criterion='entropy', n_estimators=10, random_state=0)"
            ]
          },
          "metadata": {},
          "execution_count": 75
        }
      ]
    },
    {
      "cell_type": "markdown",
      "source": [
        "Creating Confusion Matrix and Accuracy Score"
      ],
      "metadata": {
        "id": "f_RWZQJN1DcC"
      }
    },
    {
      "cell_type": "code",
      "source": [
        "from sklearn.metrics import confusion_matrix, accuracy_score\n",
        "y_pred = classifier6.predict(X_test)\n",
        "cm = confusion_matrix(y_test, y_pred)\n",
        "print(cm)\n",
        "accuracy_score(y_test, y_pred)"
      ],
      "metadata": {
        "colab": {
          "base_uri": "https://localhost:8080/"
        },
        "id": "hcBfq2v3ykwQ",
        "outputId": "be264445-196e-45a2-f7a2-da435e8043c2"
      },
      "execution_count": 76,
      "outputs": [
        {
          "output_type": "stream",
          "name": "stdout",
          "text": [
            "[[104   3]\n",
            " [  5  59]]\n"
          ]
        },
        {
          "output_type": "execute_result",
          "data": {
            "text/plain": [
              "0.9532163742690059"
            ]
          },
          "metadata": {},
          "execution_count": 76
        }
      ]
    },
    {
      "cell_type": "markdown",
      "source": [
        "##decision_tree_classification"
      ],
      "metadata": {
        "id": "VKvRHc76yZWF"
      }
    },
    {
      "cell_type": "markdown",
      "source": [
        "Training Decision Tree Classification Model"
      ],
      "metadata": {
        "id": "CmFEeimu1LpC"
      }
    },
    {
      "cell_type": "code",
      "source": [
        "from sklearn.tree import DecisionTreeClassifier\n",
        "classifier7 = DecisionTreeClassifier(criterion = 'entropy', random_state = 0)\n",
        "classifier7.fit(X_train, y_train)"
      ],
      "metadata": {
        "colab": {
          "base_uri": "https://localhost:8080/"
        },
        "id": "0fZn7q96y9Az",
        "outputId": "68eea026-40aa-47e5-dbf2-3f1444a17c6d"
      },
      "execution_count": 77,
      "outputs": [
        {
          "output_type": "execute_result",
          "data": {
            "text/plain": [
              "DecisionTreeClassifier(criterion='entropy', random_state=0)"
            ]
          },
          "metadata": {},
          "execution_count": 77
        }
      ]
    },
    {
      "cell_type": "markdown",
      "source": [
        "Creating Confusion Matrix and Accuracy Score"
      ],
      "metadata": {
        "id": "FlHmYC6b1ERT"
      }
    },
    {
      "cell_type": "code",
      "source": [
        "from sklearn.metrics import confusion_matrix, accuracy_score\n",
        "y_pred = classifier7.predict(X_test)\n",
        "cm = confusion_matrix(y_test, y_pred)\n",
        "print(cm)\n",
        "accuracy_score(y_test, y_pred)"
      ],
      "metadata": {
        "id": "4ArZlxlpD_Ay",
        "colab": {
          "base_uri": "https://localhost:8080/"
        },
        "outputId": "043ad009-a683-4808-cfaa-309120efde84"
      },
      "execution_count": 78,
      "outputs": [
        {
          "output_type": "stream",
          "name": "stdout",
          "text": [
            "[[104   3]\n",
            " [  4  60]]\n"
          ]
        },
        {
          "output_type": "execute_result",
          "data": {
            "text/plain": [
              "0.9590643274853801"
            ]
          },
          "metadata": {},
          "execution_count": 78
        }
      ]
    },
    {
      "cell_type": "markdown",
      "source": [
        "We got highest accuracy of 95.90% with decision tree classification model."
      ],
      "metadata": {
        "id": "H2159nh55AhF"
      }
    },
    {
      "cell_type": "code",
      "source": [],
      "metadata": {
        "id": "3UpRkKkaziON"
      },
      "execution_count": 78,
      "outputs": []
    }
  ]
}